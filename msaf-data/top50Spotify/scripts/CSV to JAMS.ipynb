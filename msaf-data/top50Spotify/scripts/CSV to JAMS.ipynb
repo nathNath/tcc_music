{
 "cells": [
  {
   "cell_type": "code",
   "execution_count": 1,
   "metadata": {
    "collapsed": false
   },
   "outputs": [],
   "source": [
    "import csv\n",
    "import glob\n",
    "import jams\n",
    "import librosa\n",
    "import os\n",
    "\n",
    "import msaf\n",
    "from msaf.input_output import FileStruct"
   ]
  },
  {
   "cell_type": "code",
   "execution_count": 2,
   "metadata": {
    "collapsed": true
   },
   "outputs": [],
   "source": [
    "# Set dataset paths\n",
    "ds_dir = \"..\"\n",
    "original_ref_dir = \"../original_references/\"\n",
    "\n",
    "# Get audio files\n",
    "audio_files = glob.glob(os.path.join(ds_dir, msaf.Dataset.audio_dir, \"*.mp3\"))\n",
    "\n",
    "# Make sure that the references folder exist\n",
    "msaf.utils.ensure_dir(os.path.join(ds_dir, msaf.Dataset.references_dir))"
   ]
  },
  {
   "cell_type": "code",
   "execution_count": 13,
   "metadata": {
    "collapsed": true
   },
   "outputs": [],
   "source": [
    "def get_duration(audio_file):\n",
    "    y, sr = librosa.load(audio_file)\n",
    "    return len(y) / float(sr)\n",
    "\n",
    "def fill_global_metadata(jam, csv_file, dur):\n",
    "    \"\"\"Fills the global metada into the JAMS jam.\"\"\"\n",
    "    jam.file_metadata.artist = \"Various\"\n",
    "    jam.file_metadata.duration = dur  # In seconds\n",
    "    jam.file_metadata.title = os.path.basename(csv_file).split(\"-\")[2].split(\".\")[0]\n",
    "    jam.file_metadata.release = \"\"\n",
    "\n",
    "def fill_annotation_metadata(annot):\n",
    "    \"\"\"Fills the annotation metadata.\"\"\"\n",
    "    annot.annotation_metadata.corpus = \"Top50Spotify\"\n",
    "    annot.annotation_metadata.version = \"1.0\"\n",
    "    annot.annotation_metadata.annotation_tools = \"\"\n",
    "    annot.annotation_metadata.annotation_rules = \"\"\n",
    "    annot.annotation_metadata.data_source = \"\"\n",
    "    annot.annotation_metadata.annotator.name = \"Nath Vasconcelos\"\n",
    "    annot.annotation_metadata.annotator.email = \"nathaliavasconcelos1@gmail.com\"\n",
    "    annot.annotation_metadata.curator.name = \"Nath Vasconcelos\"\n",
    "    annot.annotation_metadata.curator.email = \"nathaliavasconcelos1@gmail.com\"\n",
    "\n",
    "def fill_section_annotation(csv_file, jam):\n",
    "    \"\"\"Fills the JAMS annot annotation given a csv file.\"\"\"\n",
    "    # Create Annotation\n",
    "    annot = jams.Annotation(namespace='segment_open')\n",
    "    \n",
    "    # Annotation Metadata\n",
    "    fill_annotation_metadata(annot)\n",
    "\n",
    "    # Add actual data\n",
    "    with open(orig_ref) as csv_file:\n",
    "        bounds = list(csv.reader(csv_file, delimiter=','))\n",
    "        for i, bound in enumerate(bounds[:-1]):\n",
    "            dur = float(bounds[i+1][0]) - float(bound[0])\n",
    "            annot.append(time=float(bound[0]), duration=dur,\n",
    "                       value=str(bound[1]))\n",
    "    \n",
    "    # Add Annotation to JAMS\n",
    "    jam.annotations.append(annot)"
   ]
  },
  {
   "cell_type": "code",
   "execution_count": 14,
   "metadata": {
    "collapsed": false
   },
   "outputs": [
    {
     "name": "stdout",
     "output_type": "stream",
     "text": [
      "Parsing ../audio/01-Sargon-Mindless.mp3...\n",
      "Parsing ../audio/02-Sargon-Shattered World.mp3...\n",
      "Parsing ../audio/03-Sargon-Waiting For Silence.mp3...\n",
      "Parsing ../audio/04-Sargon-The Curse Of Akkad.mp3...\n"
     ]
    }
   ],
   "source": [
    "# Parse CSV\n",
    "for audio_file in audio_files:\n",
    "    print(\"Parsing %s...\" % audio_file)\n",
    "    file_struct = FileStruct(audio_file)\n",
    "    orig_ref = os.path.join(original_ref_dir, os.path.basename(audio_file)[:-3] + \"csv\")\n",
    "    \n",
    "    # New JAMS and annotation\n",
    "    jam = jams.JAMS()\n",
    "\n",
    "    # Global file metadata\n",
    "    fill_global_metadata(jam, orig_ref, get_duration(audio_file))\n",
    "    \n",
    "    # Create Section annotations\n",
    "    fill_section_annotation(orig_ref, jam)\n",
    "        \n",
    "    # Save JAMS\n",
    "    jam.save(file_struct.ref_file)"
   ]
  }
 ],
 "metadata": {
  "kernelspec": {
   "display_name": "Python 3",
   "language": "python",
   "name": "python3"
  },
  "language_info": {
   "codemirror_mode": {
    "name": "ipython",
    "version": 3
   },
   "file_extension": ".py",
   "mimetype": "text/x-python",
   "name": "python",
   "nbconvert_exporter": "python",
   "pygments_lexer": "ipython3",
   "version": "3.4.3"
  }
 },
 "nbformat": 4,
 "nbformat_minor": 0
}
